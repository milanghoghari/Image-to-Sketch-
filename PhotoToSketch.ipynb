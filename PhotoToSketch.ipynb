{
 "cells": [
  {
   "cell_type": "code",
   "execution_count": 12,
   "metadata": {},
   "outputs": [],
   "source": [
    "import cv2\n",
    "import matplotlib.pyplot as plt\n",
    "\n",
    "img=cv2.imread(\"123.jpg\")\n",
    "cv2.imshow(\"original image\",img)\n",
    "cv2.waitKey(0)\n",
    "\n",
    "greyimg=cv2.cvtColor(img, cv2.COLOR_BGR2GRAY)\n",
    "invertimg=cv2.bitwise_not(greyimg)\n",
    "\n",
    "blurimg=cv2.GaussianBlur(invertimg, (111,111),0)\n",
    "invblurimg=cv2.bitwise_not(blurimg)\n",
    "sketchimg=cv2.divide(greyimg,invblurimg, scale=256.0)\n",
    "cv2.imwrite(\"sketch.png\", sketchimg)\n",
    "\n",
    "cv2.imshow(\"sketch image\",sketchimg)\n",
    "cv2.waitKey(0)\n",
    "cv2.destroyAllWindows()"
   ]
  },
  {
   "cell_type": "code",
   "execution_count": null,
   "metadata": {},
   "outputs": [],
   "source": []
  }
 ],
 "metadata": {
  "kernelspec": {
   "display_name": "Python 3",
   "language": "python",
   "name": "python3"
  },
  "language_info": {
   "codemirror_mode": {
    "name": "ipython",
    "version": 3
   },
   "file_extension": ".py",
   "mimetype": "text/x-python",
   "name": "python",
   "nbconvert_exporter": "python",
   "pygments_lexer": "ipython3",
   "version": "3.8.5"
  }
 },
 "nbformat": 4,
 "nbformat_minor": 4
}
